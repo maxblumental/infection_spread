{
 "cells": [
  {
   "cell_type": "markdown",
   "id": "44fa9507",
   "metadata": {},
   "source": [
    "# EDA"
   ]
  },
  {
   "cell_type": "code",
   "execution_count": 1,
   "id": "d34f59a2",
   "metadata": {},
   "outputs": [],
   "source": [
    "import pandas as pd\n",
    "import numpy as np\n",
    "import matplotlib.pyplot as plt\n",
    "import seaborn as sns\n",
    "import networkx as nx\n",
    "\n",
    "%matplotlib inline"
   ]
  },
  {
   "cell_type": "code",
   "execution_count": 2,
   "id": "32e37e59",
   "metadata": {},
   "outputs": [],
   "source": [
    "DATA_PATH = \"data/2008.csv\"\n",
    "\n",
    "df = pd.read_csv(DATA_PATH)"
   ]
  },
  {
   "cell_type": "markdown",
   "id": "b56a7d5d",
   "metadata": {},
   "source": [
    "### Some Cleaning"
   ]
  },
  {
   "cell_type": "markdown",
   "id": "cefd0822",
   "metadata": {},
   "source": [
    "Let's keep only \"valid\" flights, i.e. those that weren't cancelled and have known departure and arrival times."
   ]
  },
  {
   "cell_type": "code",
   "execution_count": 3,
   "id": "6a2042de",
   "metadata": {},
   "outputs": [
    {
     "name": "stdout",
     "output_type": "stream",
     "text": [
      "97.8% of flights are valid\n"
     ]
    }
   ],
   "source": [
    "valid_flight_mask = (df.Cancelled == 0) & ~df.ArrTime.isna() & ~df.DepTime.isna()\n",
    "\n",
    "print(f\"{valid_flight_mask.mean():.1%} of flights are valid\")\n",
    "df = df[valid_flight_mask]"
   ]
  },
  {
   "cell_type": "markdown",
   "id": "3add3398",
   "metadata": {},
   "source": [
    "### Time"
   ]
  },
  {
   "cell_type": "markdown",
   "id": "afb7fee2",
   "metadata": {},
   "source": [
    "Departure and arrival times are measured in `hours * 100` units."
   ]
  },
  {
   "cell_type": "code",
   "execution_count": 4,
   "id": "faf1ea53",
   "metadata": {},
   "outputs": [
    {
     "data": {
      "text/html": [
       "<div>\n",
       "<style scoped>\n",
       "    .dataframe tbody tr th:only-of-type {\n",
       "        vertical-align: middle;\n",
       "    }\n",
       "\n",
       "    .dataframe tbody tr th {\n",
       "        vertical-align: top;\n",
       "    }\n",
       "\n",
       "    .dataframe thead th {\n",
       "        text-align: right;\n",
       "    }\n",
       "</style>\n",
       "<table border=\"1\" class=\"dataframe\">\n",
       "  <thead>\n",
       "    <tr style=\"text-align: right;\">\n",
       "      <th></th>\n",
       "      <th>DepTime</th>\n",
       "      <th>ArrTime</th>\n",
       "    </tr>\n",
       "  </thead>\n",
       "  <tbody>\n",
       "    <tr>\n",
       "      <th>count</th>\n",
       "      <td>6.858079e+06</td>\n",
       "      <td>6.858079e+06</td>\n",
       "    </tr>\n",
       "    <tr>\n",
       "      <th>mean</th>\n",
       "      <td>1.333766e+03</td>\n",
       "      <td>1.481258e+03</td>\n",
       "    </tr>\n",
       "    <tr>\n",
       "      <th>std</th>\n",
       "      <td>4.780567e+02</td>\n",
       "      <td>5.052251e+02</td>\n",
       "    </tr>\n",
       "    <tr>\n",
       "      <th>min</th>\n",
       "      <td>1.000000e+00</td>\n",
       "      <td>1.000000e+00</td>\n",
       "    </tr>\n",
       "    <tr>\n",
       "      <th>25%</th>\n",
       "      <td>9.280000e+02</td>\n",
       "      <td>1.107000e+03</td>\n",
       "    </tr>\n",
       "    <tr>\n",
       "      <th>50%</th>\n",
       "      <td>1.325000e+03</td>\n",
       "      <td>1.512000e+03</td>\n",
       "    </tr>\n",
       "    <tr>\n",
       "      <th>75%</th>\n",
       "      <td>1.728000e+03</td>\n",
       "      <td>1.909000e+03</td>\n",
       "    </tr>\n",
       "    <tr>\n",
       "      <th>max</th>\n",
       "      <td>2.400000e+03</td>\n",
       "      <td>2.400000e+03</td>\n",
       "    </tr>\n",
       "  </tbody>\n",
       "</table>\n",
       "</div>"
      ],
      "text/plain": [
       "            DepTime       ArrTime\n",
       "count  6.858079e+06  6.858079e+06\n",
       "mean   1.333766e+03  1.481258e+03\n",
       "std    4.780567e+02  5.052251e+02\n",
       "min    1.000000e+00  1.000000e+00\n",
       "25%    9.280000e+02  1.107000e+03\n",
       "50%    1.325000e+03  1.512000e+03\n",
       "75%    1.728000e+03  1.909000e+03\n",
       "max    2.400000e+03  2.400000e+03"
      ]
     },
     "execution_count": 4,
     "metadata": {},
     "output_type": "execute_result"
    }
   ],
   "source": [
    "df[['DepTime', 'ArrTime']].describe()"
   ]
  },
  {
   "cell_type": "code",
   "execution_count": 5,
   "id": "136ba2f9",
   "metadata": {},
   "outputs": [
    {
     "name": "stdout",
     "output_type": "stream",
     "text": [
      "In 3.2% of cases ArrTime <= DepTime\n"
     ]
    }
   ],
   "source": [
    "through_midnight = (df.ArrTime <= df.DepTime).mean()\n",
    "print(f\"In {through_midnight:.1%} of cases ArrTime <= DepTime\")"
   ]
  },
  {
   "cell_type": "markdown",
   "id": "4f3733cc",
   "metadata": {},
   "source": [
    "We will stick to the following assumptions:\n",
    "- `ArrTime <= DepTime` $\\Rightarrow$ arrival happens on the next day\n",
    "- `ArrTime > DepTime` $\\Rightarrow$ departure and arrival both happen on the same day"
   ]
  },
  {
   "cell_type": "markdown",
   "id": "d5f3bf02",
   "metadata": {},
   "source": [
    "We'll convert all time-related columns to unix timestamps for convenience."
   ]
  },
  {
   "cell_type": "code",
   "execution_count": 6,
   "id": "ff8fc18c",
   "metadata": {},
   "outputs": [],
   "source": [
    "dates = pd.to_datetime(df.rename(columns={'DayofMonth': 'Day'})[['Year', 'Month', 'Day']])\n",
    "dateTs = dates.astype(int) // 10**9\n",
    "df['depTs'] = dateTs + (df.DepTime / 100) * 3600\n",
    "df['arrTs'] = dateTs + (df.ArrTime / 100) * 3600 + 86400 * (df.ArrTime <= df.DepTime).astype(int)"
   ]
  },
  {
   "cell_type": "markdown",
   "id": "82986426",
   "metadata": {},
   "source": [
    "### Geography"
   ]
  },
  {
   "cell_type": "code",
   "execution_count": 7,
   "id": "12b65326",
   "metadata": {},
   "outputs": [
    {
     "name": "stdout",
     "output_type": "stream",
     "text": [
      "303 unique origins\n",
      "302 unique destinations\n",
      "303 unique points\n"
     ]
    }
   ],
   "source": [
    "origins = set(df.Origin.unique())\n",
    "destinations = set(df.Dest.unique())\n",
    "nodes = origins.union(destinations)\n",
    "print(f\"{len(origins)} unique origins\\n{len(destinations)} unique destinations\\n{len(nodes)} unique points\")"
   ]
  },
  {
   "cell_type": "code",
   "execution_count": 8,
   "id": "20654164",
   "metadata": {},
   "outputs": [
    {
     "data": {
      "text/html": [
       "<div>\n",
       "<style scoped>\n",
       "    .dataframe tbody tr th:only-of-type {\n",
       "        vertical-align: middle;\n",
       "    }\n",
       "\n",
       "    .dataframe tbody tr th {\n",
       "        vertical-align: top;\n",
       "    }\n",
       "\n",
       "    .dataframe thead th {\n",
       "        text-align: right;\n",
       "    }\n",
       "</style>\n",
       "<table border=\"1\" class=\"dataframe\">\n",
       "  <thead>\n",
       "    <tr style=\"text-align: right;\">\n",
       "      <th></th>\n",
       "      <th>DepTime</th>\n",
       "      <th>ArrTime</th>\n",
       "      <th>Origin</th>\n",
       "      <th>Dest</th>\n",
       "    </tr>\n",
       "  </thead>\n",
       "  <tbody>\n",
       "    <tr>\n",
       "      <th>3701794</th>\n",
       "      <td>1740.0</td>\n",
       "      <td>1814.0</td>\n",
       "      <td>PUB</td>\n",
       "      <td>COS</td>\n",
       "    </tr>\n",
       "    <tr>\n",
       "      <th>3702095</th>\n",
       "      <td>1331.0</td>\n",
       "      <td>1449.0</td>\n",
       "      <td>PUB</td>\n",
       "      <td>COS</td>\n",
       "    </tr>\n",
       "  </tbody>\n",
       "</table>\n",
       "</div>"
      ],
      "text/plain": [
       "         DepTime  ArrTime Origin Dest\n",
       "3701794   1740.0   1814.0    PUB  COS\n",
       "3702095   1331.0   1449.0    PUB  COS"
      ]
     },
     "execution_count": 8,
     "metadata": {},
     "output_type": "execute_result"
    }
   ],
   "source": [
    "df[~df.Origin.isin(destinations)][['DepTime', 'ArrTime', 'Origin', 'Dest']]"
   ]
  },
  {
   "cell_type": "markdown",
   "id": "84dca7c9",
   "metadata": {},
   "source": [
    "No one comes back to Pueblo!"
   ]
  }
 ],
 "metadata": {
  "kernelspec": {
   "display_name": "Python 3",
   "language": "python",
   "name": "python3"
  },
  "language_info": {
   "codemirror_mode": {
    "name": "ipython",
    "version": 3
   },
   "file_extension": ".py",
   "mimetype": "text/x-python",
   "name": "python",
   "nbconvert_exporter": "python",
   "pygments_lexer": "ipython3",
   "version": "3.6.9"
  }
 },
 "nbformat": 4,
 "nbformat_minor": 5
}
